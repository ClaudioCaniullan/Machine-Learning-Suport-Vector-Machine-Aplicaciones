{
  "nbformat": 4,
  "nbformat_minor": 0,
  "metadata": {
    "kernelspec": {
      "display_name": "Python 3",
      "language": "python",
      "name": "python3"
    },
    "language_info": {
      "codemirror_mode": {
        "name": "ipython",
        "version": 3
      },
      "file_extension": ".py",
      "mimetype": "text/x-python",
      "name": "python",
      "nbconvert_exporter": "python",
      "pygments_lexer": "ipython3",
      "version": "3.8.3"
    },
    "colab": {
      "name": "Support Vector Machine - Breast Cancer ejemplo.ipynb",
      "provenance": [],
      "include_colab_link": true
    }
  },
  "cells": [
    {
      "cell_type": "markdown",
      "metadata": {
        "id": "view-in-github",
        "colab_type": "text"
      },
      "source": [
        "<a href=\"https://colab.research.google.com/github/ClaudioCaniullan/Machine-Learning-Support-Vector-Machine-Aplicaciones/blob/main/Support_Vector_Machine_Breast_Cancer_ejemplo.ipynb\" target=\"_parent\"><img src=\"https://colab.research.google.com/assets/colab-badge.svg\" alt=\"Open In Colab\"/></a>"
      ]
    },
    {
      "cell_type": "markdown",
      "metadata": {
        "id": "XZN1wslFTMtq"
      },
      "source": [
        "**¿Qué librerías vamos a usar?**\n",
        "\n",
        "Pandas\n",
        "\n",
        "matplotlib\n",
        "\n",
        "sklearn.model_selection import train_test_split\n",
        "\n",
        "**Novedad**\n",
        "\n",
        "from sklearn import svm"
      ]
    },
    {
      "cell_type": "markdown",
      "metadata": {
        "id": "Te6JJhEzTMt8"
      },
      "source": [
        "**class sklearn.svm.SVC**(*, C=1.0, kernel='rbf', degree=3, gamma='scale', coef0=0.0, shrinking=True, probability=False, tol=0.001, cache_size=200, class_weight=None, verbose=False, max_iter=- 1, decision_function_shape='ovr', break_ties=False, random_state=None)\n",
        "\n",
        "C float, predeterminado = 1.0 Parámetro de regularización. La fuerza de la regularización es inversamente proporcional a C. Debe ser estrictamente positiva. La penalización es una penalización de 12 al cuadrado.\n",
        "\n",
        "kernel {‘linear’, ‘poly’, ‘rbf’, ‘sigmoid’, ‘precomputed’}, default = ’rbf’ Especifica el tipo de kernel que se utilizará en el algoritmo. Debe ser \"lineal\", \"poli\", \"rbf\", \"sigmoide\", \"precalculado\" o invocable. Si no se proporciona ninguno, se utilizará \"rbf\". Si se proporciona un invocable, se utiliza para calcular previamente la matriz del núcleo a partir de matrices de datos; esa matriz debe ser una matriz de formas (n_samples, n_samples).\n",
        "\n",
        "gradoint, predeterminado = 3 Grado de la función del núcleo polinomial (\"poli\"). Ignorado por todos los demás núcleos.\n",
        "\n",
        "gamma {\"scale\", \"auto\"} o flotante, predeterminado = \"scale\" Coeficiente de kernel para \"rbf\", \"poli\" y \"sigmoide\".\n",
        "\n",
        "si se pasa gamma = 'scale' (predeterminado), entonces usa 1 / (n_features * X.var ()) como valor de gamma,\n",
        "\n",
        "si es \"auto\", utiliza 1 / n_features.\n",
        "\n",
        "coef0 float, predeterminado = 0.0 Término independiente en la función del núcleo. Solo es significativo en \"poli\" y \"sigmoide\".\n",
        "\n",
        "shrinking bool, predeterminado = True Ya sea para usar la heurística de encogimiento. Consulte la Guía del usuario - https://scikit-learn.org/stable/modules/svm.html#shrinking-svm\n",
        "\n",
        "probability bool, predeterminado = Falso Ya sea para habilitar estimaciones de probabilidad. Esto debe estar habilitado antes de llamar al ajuste, ralentizará ese método, ya que utiliza internamente una validación cruzada de 5 veces, y predict_proba puede ser inconsistente con predict.\n",
        "\n",
        "tol float, predeterminado = 1e-3 Tolerancia al criterio de parada.\n",
        "\n",
        "cache_size float, predeterminado = 200 Especifique el tamaño de la caché del kernel (en MB).\n",
        "\n",
        "class_weight None o \"balanceado\", predeterminado = None Establezca el parámetro C de la clase i en class_weight [i] * C para SVC. Si no se da, se supone que todas las clases tienen un peso uno. El modo \"balanceado\" utiliza los valores de y para ajustar automáticamente los pesos inversamente proporcionales a las frecuencias de clase en los datos de entrada como n_samples / (n_classes * np.bincount (y))\n",
        "\n",
        "verbose bool, predeterminado = False Habilite la salida detallada. Tenga en cuenta que esta configuración aprovecha una configuración de tiempo de ejecución por proceso en lib svm que, si está habilitada, puede no funcionar correctamente en un contexto multiproceso.\n",
        "\n",
        "max_iter int, predeterminado = -1 Límite estricto de iteraciones dentro del solucionador, o -1 si no hay límite.\n",
        "\n",
        "decision_function_shape {‘ovo’, ‘ovr’}, default = ’ovr’ Ya sea para devolver una función de decisión one-vs-rest ('ovr') de shape (n_samples, n_classes) como todos los demás clasificadores, o la función de decisión original one-vs-one ('ovo') de libsvm que tiene shape (n_samples , n_clases * (n_clases - 1) / 2). Sin embargo, uno contra uno (\"ovo\") siempre se utiliza como estrategia de clases múltiples. El parámetro se ignora para la clasificación binaria.\n",
        "\n",
        "Modificado en la versión 0.19: decision_function_shape es \"ovr\" por defecto.\n",
        "\n",
        "Nuevo en la versión 0.17: se recomienda decision_function_shape = ’ovr’.\n",
        "\n",
        "Modificado en la versión 0.17: Deprecated decision_function_shape = ’ovo’ y None.\n",
        "\n",
        "break_tiesbool, predeterminado = False Si es verdadero, decision_function_shape = 'ovr', y el número de clases> 2, predict romperá los lazos de acuerdo con los valores de confianza de decision_function; de lo contrario, se devuelve la primera clase entre las clases empatadas. Tenga en cuenta que romper los lazos tiene un costo computacional relativamente alto en comparación con una simple predicción.\n",
        "\n",
        "Nuevo en la versión 0.22.\n",
        "\n",
        "random_state int, instancia de RandomState o None, predeterminado = None Controla la generación de números pseudoaleatorios para mezclar los datos para estimaciones de probabilidad. Se ignora cuando la probabilidad es falsa. Pase un int para una salida reproducible a través de múltiples llamadas a funciones"
      ]
    },
    {
      "cell_type": "code",
      "metadata": {
        "colab": {
          "base_uri": "https://localhost:8080/"
        },
        "id": "OR5WCpFsTMuD",
        "outputId": "8d1bf189-4944-4e19-c10f-e07441990e9d"
      },
      "source": [
        "from sklearn import datasets\n",
        " \n",
        "cancer_data = datasets.load_breast_cancer()\n",
        "print(cancer_data.data[5])\n",
        "print(cancer_data.data.shape)\n",
        "#target set\n",
        "print(cancer_data.target)"
      ],
      "execution_count": 56,
      "outputs": [
        {
          "output_type": "stream",
          "name": "stdout",
          "text": [
            "[1.245e+01 1.570e+01 8.257e+01 4.771e+02 1.278e-01 1.700e-01 1.578e-01\n",
            " 8.089e-02 2.087e-01 7.613e-02 3.345e-01 8.902e-01 2.217e+00 2.719e+01\n",
            " 7.510e-03 3.345e-02 3.672e-02 1.137e-02 2.165e-02 5.082e-03 1.547e+01\n",
            " 2.375e+01 1.034e+02 7.416e+02 1.791e-01 5.249e-01 5.355e-01 1.741e-01\n",
            " 3.985e-01 1.244e-01]\n",
            "(569, 30)\n",
            "[0 0 0 0 0 0 0 0 0 0 0 0 0 0 0 0 0 0 0 1 1 1 0 0 0 0 0 0 0 0 0 0 0 0 0 0 0\n",
            " 1 0 0 0 0 0 0 0 0 1 0 1 1 1 1 1 0 0 1 0 0 1 1 1 1 0 1 0 0 1 1 1 1 0 1 0 0\n",
            " 1 0 1 0 0 1 1 1 0 0 1 0 0 0 1 1 1 0 1 1 0 0 1 1 1 0 0 1 1 1 1 0 1 1 0 1 1\n",
            " 1 1 1 1 1 1 0 0 0 1 0 0 1 1 1 0 0 1 0 1 0 0 1 0 0 1 1 0 1 1 0 1 1 1 1 0 1\n",
            " 1 1 1 1 1 1 1 1 0 1 1 1 1 0 0 1 0 1 1 0 0 1 1 0 0 1 1 1 1 0 1 1 0 0 0 1 0\n",
            " 1 0 1 1 1 0 1 1 0 0 1 0 0 0 0 1 0 0 0 1 0 1 0 1 1 0 1 0 0 0 0 1 1 0 0 1 1\n",
            " 1 0 1 1 1 1 1 0 0 1 1 0 1 1 0 0 1 0 1 1 1 1 0 1 1 1 1 1 0 1 0 0 0 0 0 0 0\n",
            " 0 0 0 0 0 0 0 1 1 1 1 1 1 0 1 0 1 1 0 1 1 0 1 0 0 1 1 1 1 1 1 1 1 1 1 1 1\n",
            " 1 0 1 1 0 1 0 1 1 1 1 1 1 1 1 1 1 1 1 1 1 0 1 1 1 0 1 0 1 1 1 1 0 0 0 1 1\n",
            " 1 1 0 1 0 1 0 1 1 1 0 1 1 1 1 1 1 1 0 0 0 1 1 1 1 1 1 1 1 1 1 1 0 0 1 0 0\n",
            " 0 1 0 0 1 1 1 1 1 0 1 1 1 1 1 0 1 1 1 0 1 1 0 0 1 1 1 1 1 1 0 1 1 1 1 1 1\n",
            " 1 0 1 1 1 1 1 0 1 1 0 1 1 1 1 1 1 1 1 1 1 1 1 0 1 0 0 1 0 1 1 1 1 1 0 1 1\n",
            " 0 1 0 1 1 0 1 0 1 1 1 1 1 1 1 1 0 0 1 1 1 1 1 1 0 1 1 1 1 1 1 1 1 1 1 0 1\n",
            " 1 1 1 1 1 1 0 1 0 1 1 0 1 1 1 1 1 0 0 1 0 1 0 1 1 1 1 1 0 1 1 0 1 0 1 0 0\n",
            " 1 1 1 0 1 1 1 1 1 1 1 1 1 1 1 0 1 0 0 1 1 1 1 1 1 1 1 1 1 1 1 1 1 1 1 1 1\n",
            " 1 1 1 1 1 1 1 0 0 0 0 0 0 1]\n"
          ]
        }
      ]
    },
    {
      "cell_type": "code",
      "metadata": {
        "colab": {
          "base_uri": "https://localhost:8080/"
        },
        "id": "-NS9RD_0TMuH",
        "outputId": "42e28dcb-a3c2-410a-c97a-9289ca79e66b"
      },
      "source": [
        "from sklearn.model_selection import train_test_split\n",
        " \n",
        "cancer_data = datasets.load_breast_cancer()\n",
        " \n",
        "X_train, X_test, y_train, y_test = train_test_split(cancer_data.data, cancer_data.target, test_size=0.4,random_state=109)\n",
        "from sklearn import svm\n",
        "#create a classifier\n",
        "clf = svm.SVC(kernel=\"linear\")\n",
        "#entrenamiento del modelo\n",
        "clf.fit(X_train,y_train)"
      ],
      "execution_count": 57,
      "outputs": [
        {
          "output_type": "execute_result",
          "data": {
            "text/plain": [
              "SVC(C=1.0, break_ties=False, cache_size=200, class_weight=None, coef0=0.0,\n",
              "    decision_function_shape='ovr', degree=3, gamma='scale', kernel='linear',\n",
              "    max_iter=-1, probability=False, random_state=None, shrinking=True,\n",
              "    tol=0.001, verbose=False)"
            ]
          },
          "metadata": {},
          "execution_count": 57
        }
      ]
    },
    {
      "cell_type": "code",
      "metadata": {
        "colab": {
          "base_uri": "https://localhost:8080/"
        },
        "id": "0FdcmMgOTMuI",
        "outputId": "a3ca1da0-1f4c-455b-c6a8-d0fad04eff95"
      },
      "source": [
        "#Predicción\n",
        "y_pred = clf.predict(X_test)\n",
        "print(y_pred)\n",
        "print(y_test)\n",
        "from sklearn import metrics\n",
        "#accuracy\n",
        "print(\"acuracy:\", metrics.accuracy_score(y_test,y_pred))\n",
        "#precision score\n",
        "print(\"precision:\", metrics.precision_score(y_test,y_pred))\n",
        "#recall score\n",
        "print(\"recall\" , metrics.recall_score(y_test,y_pred))\n",
        "print(metrics.classification_report(y_test, y_pred))"
      ],
      "execution_count": 58,
      "outputs": [
        {
          "output_type": "stream",
          "name": "stdout",
          "text": [
            "[1 1 0 0 1 0 1 1 1 0 0 0 1 0 0 1 0 0 1 0 1 1 0 0 1 1 0 1 1 1 1 0 1 1 1 1 1\n",
            " 0 1 1 0 1 0 1 1 1 1 1 0 0 1 1 0 1 1 0 1 1 1 0 0 1 0 1 0 0 1 1 1 1 0 1 1 1\n",
            " 0 1 0 1 1 1 1 1 1 1 0 0 1 1 1 1 0 0 1 0 1 1 1 1 1 0 0 1 0 0 1 1 0 1 0 1 1\n",
            " 0 1 1 0 0 0 1 0 1 1 1 1 1 0 1 0 1 0 1 0 0 0 1 0 1 1 0 1 1 1 0 1 1 0 0 1 0\n",
            " 0 0 1 1 1 1 1 0 0 1 0 1 1 1 1 1 1 1 1 0 1 1 1 0 1 1 1 1 1 1 0 0 1 0 1 1 0\n",
            " 0 0 0 1 1 1 0 1 1 1 1 0 0 1 1 1 1 1 1 1 0 1 0 1 0 1 0 1 0 0 0 0 1 1 1 1 0\n",
            " 1 0 0 1 0 0]\n",
            "[1 1 0 0 1 0 1 1 1 0 0 0 1 0 1 1 0 0 1 0 1 1 0 0 1 1 0 1 1 1 1 0 1 1 1 1 1\n",
            " 0 1 1 0 1 0 1 1 1 0 1 0 0 1 1 0 1 1 0 1 1 1 0 0 1 0 1 0 0 1 1 1 1 0 1 1 1\n",
            " 0 1 0 1 1 1 1 1 1 1 0 1 1 1 1 1 0 0 1 0 1 1 1 1 1 0 0 1 1 0 1 1 0 1 0 1 1\n",
            " 0 1 1 0 0 0 1 0 1 1 1 1 1 0 1 0 1 0 1 0 0 0 0 0 1 1 0 1 1 1 0 1 1 0 0 1 0\n",
            " 0 0 1 1 1 1 1 0 0 1 0 1 1 1 1 1 1 1 1 0 1 1 1 0 1 1 1 1 1 1 0 0 1 0 1 1 0\n",
            " 0 0 0 1 0 1 0 1 1 1 1 0 0 1 0 1 1 1 1 1 0 1 0 1 0 1 0 1 0 0 0 0 1 1 0 1 0\n",
            " 1 0 0 1 0 0]\n",
            "acuracy: 0.9649122807017544\n",
            "precision: 0.9642857142857143\n",
            "recall 0.9782608695652174\n",
            "              precision    recall  f1-score   support\n",
            "\n",
            "           0       0.97      0.94      0.96        90\n",
            "           1       0.96      0.98      0.97       138\n",
            "\n",
            "    accuracy                           0.96       228\n",
            "   macro avg       0.97      0.96      0.96       228\n",
            "weighted avg       0.96      0.96      0.96       228\n",
            "\n"
          ]
        }
      ]
    },
    {
      "cell_type": "code",
      "metadata": {
        "colab": {
          "base_uri": "https://localhost:8080/",
          "height": 317
        },
        "id": "GOTn9NDuTMuJ",
        "outputId": "a5b856f7-2599-415b-8e6c-3a0506157618"
      },
      "source": [
        "#Verifico la matriz de Confusión\n",
        "import seaborn as sn\n",
        "import matplotlib.pyplot as plt\n",
        "from sklearn.metrics import confusion_matrix\n",
        "matriz = confusion_matrix(y_test, y_pred)\n",
        "print('Matriz de Confusión:')\n",
        "print(matriz)\n",
        "\n",
        "sn.heatmap(matriz, annot=True)\n",
        "plt.show()"
      ],
      "execution_count": 59,
      "outputs": [
        {
          "output_type": "stream",
          "name": "stdout",
          "text": [
            "Matriz de Confusión:\n",
            "[[ 85   5]\n",
            " [  3 135]]\n"
          ]
        },
        {
          "output_type": "display_data",
          "data": {
            "image/png": "[encoded data removed]",
            "text/plain": [
              "<Figure size 432x288 with 2 Axes>"
            ]
          },
          "metadata": {
            "needs_background": "light"
          }
        }
      ]
    },
    {
      "cell_type": "markdown",
      "metadata": {
        "id": "Ds6-BNv2TMuK"
      },
      "source": [
        "![image.png](attachment:image.png)"
      ]
    },
    {
      "cell_type": "code",
      "metadata": {
        "colab": {
          "base_uri": "https://localhost:8080/"
        },
        "id": "2KkwDNzFTMuK",
        "outputId": "973c84e6-3aeb-4e94-e392-70d46711f139"
      },
      "source": [
        "from sklearn.metrics import accuracy_score\n",
        "#Exactitud - La exactitud (accuracy) mide el porcentaje de casos que el modelo ha acertado\n",
        "accuracy_score(y_test, y_pred)"
      ],
      "execution_count": 60,
      "outputs": [
        {
          "output_type": "execute_result",
          "data": {
            "text/plain": [
              "0.9649122807017544"
            ]
          },
          "metadata": {},
          "execution_count": 60
        }
      ]
    },
    {
      "cell_type": "code",
      "metadata": {
        "colab": {
          "base_uri": "https://localhost:8080/"
        },
        "id": "SZC-lVhlUs79",
        "outputId": "3b5c6c87-5f33-4dc4-af0a-f23a0da335c9"
      },
      "source": [
        "# Precision - Con la métrica de precisión podemos medir la calidad del modelo de machine learning en tareas de clasificación.\n",
        "#Responde a la pregunta ¿qué porcentaje de lo identificado como positivo es realmente correcto?\n",
        "from sklearn.metrics import precision_score\n",
        "precision_score(y_test, y_pred, average='micro')"
      ],
      "execution_count": 61,
      "outputs": [
        {
          "output_type": "execute_result",
          "data": {
            "text/plain": [
              "0.9649122807017544"
            ]
          },
          "metadata": {},
          "execution_count": 61
        }
      ]
    },
    {
      "cell_type": "code",
      "metadata": {
        "colab": {
          "base_uri": "https://localhost:8080/"
        },
        "id": "2C6xI_LZVDaM",
        "outputId": "e266b0dd-0b47-47ea-b29d-0b03c3a604b6"
      },
      "source": [
        "# Recall o Sensibilidad - ¿Qué porcentaje de los valores positivos fueron bien identificados?\n",
        "from sklearn.metrics import recall_score\n",
        "recall_score(y_test, y_pred, average='micro')"
      ],
      "execution_count": 62,
      "outputs": [
        {
          "output_type": "execute_result",
          "data": {
            "text/plain": [
              "0.9649122807017544"
            ]
          },
          "metadata": {},
          "execution_count": 62
        }
      ]
    },
    {
      "cell_type": "code",
      "metadata": {
        "colab": {
          "base_uri": "https://localhost:8080/"
        },
        "id": "8MeWNCZSVF2d",
        "outputId": "850148c2-252f-4f50-a668-472c4d37ca19"
      },
      "source": [
        "#rendimiento combinado de la precisión y la sensibilidad  \n",
        "from sklearn.metrics import f1_score \n",
        "f1_score(y_test, y_pred, average='micro')"
      ],
      "execution_count": 63,
      "outputs": [
        {
          "output_type": "execute_result",
          "data": {
            "text/plain": [
              "0.9649122807017544"
            ]
          },
          "metadata": {},
          "execution_count": 63
        }
      ]
    }
  ]
}